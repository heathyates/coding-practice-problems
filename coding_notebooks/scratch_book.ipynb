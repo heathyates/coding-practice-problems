{
 "cells": [
  {
   "cell_type": "code",
   "execution_count": 12,
   "metadata": {},
   "outputs": [],
   "source": [
    "class ListNode:\n",
    "     def __init__(self, val=0, next=None):\n",
    "         self.val = val\n",
    "         self.next = next"
   ]
  },
  {
   "cell_type": "code",
   "execution_count": 26,
   "metadata": {},
   "outputs": [],
   "source": [
    "#2, 4, 3\n",
    "l1 = ListNode(val = 2, next = ListNode(val = 4, next =  ListNode(val = 3, next = None)))"
   ]
  },
  {
   "cell_type": "code",
   "execution_count": 42,
   "metadata": {},
   "outputs": [],
   "source": [
    "def listnode_to_pylist(listnode):\n",
    "        ret = []\n",
    "        while True:\n",
    "            ret.append(listnode.val)\n",
    "            if listnode.next != None:\n",
    "                listnode = listnode.next\n",
    "            else:\n",
    "                return ret"
   ]
  },
  {
   "cell_type": "code",
   "execution_count": 95,
   "metadata": {},
   "outputs": [],
   "source": [
    "def pylist_to_listnode(pylist):\n",
    "\n",
    "    if not pylist: \n",
    "        return None \n",
    "    else: \n",
    "        return ListNode(val = pylist[0], next = pylist_to_listnode(pylist[1:]))"
   ]
  },
  {
   "cell_type": "code",
   "execution_count": null,
   "metadata": {},
   "outputs": [],
   "source": [
    "def listSum(ls):\n",
    "    # Base condition\n",
    "    if not ls:\n",
    "        return 0\n",
    "\n",
    "    # First element + result of calling `listsum` with rest of the elements\n",
    "    return ls[0] + listSum(ls[1:])\n",
    " \n",
    "listSum([1, 3, 4, 5, 6])"
   ]
  },
  {
   "cell_type": "code",
   "execution_count": 97,
   "metadata": {},
   "outputs": [
    {
     "data": {
      "text/plain": [
       "[2, 3, 4, 5, 6]"
      ]
     },
     "execution_count": 97,
     "metadata": {},
     "output_type": "execute_result"
    }
   ],
   "source": [
    "nl = pylist_to_listnode([2,3,4,5,6])\n",
    "listnode_to_pylist(nl)\n",
    "\n",
    "\n"
   ]
  }
 ],
 "metadata": {
  "interpreter": {
   "hash": "7d20bfa18dee6a59cc01d09349edea9fdd74542974c9019c2cfac0b028986a56"
  },
  "kernelspec": {
   "display_name": "Python 3.8.10 ('env': venv)",
   "language": "python",
   "name": "python3"
  },
  "language_info": {
   "codemirror_mode": {
    "name": "ipython",
    "version": 3
   },
   "file_extension": ".py",
   "mimetype": "text/x-python",
   "name": "python",
   "nbconvert_exporter": "python",
   "pygments_lexer": "ipython3",
   "version": "3.8.10"
  },
  "orig_nbformat": 4
 },
 "nbformat": 4,
 "nbformat_minor": 2
}
