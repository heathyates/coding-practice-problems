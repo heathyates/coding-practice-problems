{
 "cells": [
  {
   "cell_type": "markdown",
   "metadata": {},
   "source": [
    "# Add Two Numbers \n",
    "The algorithm works as follows: \n",
    "\n",
    "## Specification \n",
    "* Precondition: Accept two linked lists and store them as reversed lists\n",
    "* Postcondition: Add these numbers and store result as a list \n",
    "\n",
    "## Examples \n",
    "Input: l1 = [2,4,3], l2 = [5,6,4]\n",
    "Output: [7,0,8]\n"
   ]
  },
  {
   "cell_type": "code",
   "execution_count": 53,
   "metadata": {},
   "outputs": [],
   "source": [
    "def inverseList(mylist):\n",
    "    newlist = []\n",
    "    for i in reversed(mylist):\n",
    "        newlist.append(i)\n",
    "    return newlist"
   ]
  },
  {
   "cell_type": "code",
   "execution_count": 54,
   "metadata": {},
   "outputs": [],
   "source": [
    "def convertListToNumber(numList):  # [1,2,3]\n",
    "    s = map(str, numList)   # ['1','2','3']\n",
    "    s = ''.join(s)          # '123'\n",
    "    s = int(s)              # 123\n",
    "    return s"
   ]
  },
  {
   "cell_type": "code",
   "execution_count": 61,
   "metadata": {},
   "outputs": [],
   "source": [
    "def convertNumberToList(myNumber):\n",
    "    mylist = list(str(myNumber))\n",
    "    newlist = []\n",
    "    for i in reversed(mylist):\n",
    "        newlist.append(int(i))\n",
    "    return newlist   "
   ]
  },
  {
   "cell_type": "code",
   "execution_count": 62,
   "metadata": {},
   "outputs": [],
   "source": [
    "def addTwoNumbers(l1, l2):\n",
    "\n",
    "    #Invert the lists \n",
    "    nl1 = inverseList(l1)\n",
    "    nl2 = inverseList(l2)\n",
    "\n",
    "    #Convert the lists to numers \n",
    "    n1 = convertListToNumber(nl1)\n",
    "    n2 = convertListToNumber(nl2)\n",
    "\n",
    "    #Find the sum \n",
    "    total = n1 + n2 \n",
    "\n",
    "    #Convert the total to a inversed list\n",
    "    nl3 = convertNumberToList(total)\n",
    "    \n",
    "    #Return the list \n",
    "    return nl3"
   ]
  },
  {
   "cell_type": "code",
   "execution_count": 63,
   "metadata": {},
   "outputs": [
    {
     "data": {
      "text/plain": [
       "[7, 0, 8]"
      ]
     },
     "execution_count": 63,
     "metadata": {},
     "output_type": "execute_result"
    }
   ],
   "source": [
    "l1 = [2,4,3]\n",
    "l2 = [5,6,4]\n",
    "addTwoNumbers(l1,l2)"
   ]
  }
 ],
 "metadata": {
  "interpreter": {
   "hash": "7d20bfa18dee6a59cc01d09349edea9fdd74542974c9019c2cfac0b028986a56"
  },
  "kernelspec": {
   "display_name": "Python 3.8.10 ('env': venv)",
   "language": "python",
   "name": "python3"
  },
  "language_info": {
   "codemirror_mode": {
    "name": "ipython",
    "version": 3
   },
   "file_extension": ".py",
   "mimetype": "text/x-python",
   "name": "python",
   "nbconvert_exporter": "python",
   "pygments_lexer": "ipython3",
   "version": "3.8.10"
  },
  "orig_nbformat": 4
 },
 "nbformat": 4,
 "nbformat_minor": 2
}
