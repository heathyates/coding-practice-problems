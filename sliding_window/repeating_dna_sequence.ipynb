{
 "cells": [
  {
   "cell_type": "markdown",
   "metadata": {},
   "source": [
    "# Repeating DNA Sequence \n",
    "The DNA sequence is composed of a series of nucleotides abbreviated as 'A', 'C', 'G', and 'T'\n",
    "\n",
    "## Description \n",
    "Given a string s that represents a DNA sequence, return all the 10-letter-long sequences (substrings) that occur more than once in a DNA molecule. You may return the answer in any order."
   ]
  },
  {
   "cell_type": "markdown",
   "metadata": {},
   "source": [
    "## Example One \n",
    "Input: s = \"AAAAACCCCCAAAAACCCCCCAAAAAGGGTTT\"\n",
    "Output: [\"AAAAACCCCC\",\"CCCCCAAAAA\"]\n",
    "\n",
    "## Example Two \n",
    "Input: s = \"AAAAAAAAAAAAA\"\n",
    "Output: [\"AAAAAAAAAA\"]"
   ]
  },
  {
   "cell_type": "code",
   "execution_count": 56,
   "metadata": {},
   "outputs": [],
   "source": [
    "def findRepeatedDnaSequences(s: str):\n",
    "\n",
    "    #Set up the parameters \n",
    "    seq = list(s)  \n",
    "    windowsize = 10\n",
    "    #print(len(seq) - windowsize + 1)\n",
    "    matches = []\n",
    "\n",
    "    # Find patterns\n",
    "    for index in range(len(seq) - windowsize + 1):\n",
    "\n",
    "        #Pattern Candidate \n",
    "        s = seq[index:index+windowsize]\n",
    "\n",
    "        #Find Pattern match starting at index+windowsize \n",
    "        c = seq[index+1:]\n",
    "\n",
    "        #print(c)\n",
    "\n",
    "        #If there is more than 10 characters in c, start the match \n",
    "        if len(c) >= 10: \n",
    "\n",
    "            #Compare s to c somehow to get a match \n",
    "            ss = \"\".join(s)\n",
    "            cc = \"\".join(c)\n",
    "\n",
    "            \n",
    "\n",
    "            #Check to see a match and already in matches\n",
    "            if ss in cc and not ss in matches: \n",
    "                matches.append(ss)\n",
    "\n",
    "        else: \n",
    "            break #No more comparisons to be made\n",
    "    \n",
    "    return matches \n",
    "    "
   ]
  },
  {
   "cell_type": "code",
   "execution_count": 57,
   "metadata": {},
   "outputs": [
    {
     "name": "stdout",
     "output_type": "stream",
     "text": [
      "23\n"
     ]
    },
    {
     "data": {
      "text/plain": [
       "['AAAAACCCCC', 'CCCCCAAAAA']"
      ]
     },
     "execution_count": 57,
     "metadata": {},
     "output_type": "execute_result"
    }
   ],
   "source": [
    "findRepeatedDnaSequences(\"AAAAACCCCCAAAAACCCCCCAAAAAGGGTTT\")"
   ]
  },
  {
   "cell_type": "code",
   "execution_count": 58,
   "metadata": {},
   "outputs": [
    {
     "name": "stdout",
     "output_type": "stream",
     "text": [
      "4\n"
     ]
    },
    {
     "data": {
      "text/plain": [
       "['AAAAAAAAAA']"
      ]
     },
     "execution_count": 58,
     "metadata": {},
     "output_type": "execute_result"
    }
   ],
   "source": [
    "findRepeatedDnaSequences(\"AAAAAAAAAAAAA\")"
   ]
  },
  {
   "cell_type": "markdown",
   "metadata": {},
   "source": [
    "## Second Attempt (Make it faster)"
   ]
  },
  {
   "cell_type": "code",
   "execution_count": 72,
   "metadata": {},
   "outputs": [],
   "source": [
    "def findRepeatedDnaSequences(s: str):\n",
    "    \n",
    "    #Set the algorithm paramters (sliding window size)\n",
    "    window = 10\n",
    "    patterns = [] \n",
    "    matches = []\n",
    "\n",
    "    for i in range(len(s) - window + 1): \n",
    "    \n",
    "        #Pattern \n",
    "        p = s[i:i + window]\n",
    "\n",
    "        #Check if p has been seen in patterns and not in matches, add it \n",
    "        if p in patterns and not p in matches: \n",
    "            matches.append(p)\n",
    "        else: \n",
    "            #Add a pattern as it hasn't been seen before \n",
    "            patterns.append(p)\n",
    "\n",
    "    return matches"
   ]
  },
  {
   "cell_type": "markdown",
   "metadata": {},
   "source": [
    "## Third Attempt \n",
    "Try to refactor using dictionaries instead of a list "
   ]
  },
  {
   "cell_type": "code",
   "execution_count": 73,
   "metadata": {},
   "outputs": [],
   "source": [
    "def findRepeatedDnaSequences(s: str):\n",
    "\n",
    "    #Set the algorithm paramters \n",
    "    window = 10 #Sliding window size\n",
    "    seen_patterns = set() #Set of seen patterns\n",
    "    matches = set() #Set of matches detected \n",
    "\n",
    "    for i in range(len(s) - window + 1): \n",
    "        \n",
    "        #Obtain a pattern candidate  \n",
    "        p = s[i:i + window]\n",
    "\n",
    "        #Add pattern to being seen  \n",
    "        if p in seen_patterns:\n",
    "            matches.add(p)\n",
    "\n",
    "        #Add the pattern to seen \n",
    "        seen_patterns.add(p)\n",
    "\n",
    "\n",
    "    return matches"
   ]
  },
  {
   "cell_type": "code",
   "execution_count": 74,
   "metadata": {},
   "outputs": [
    {
     "data": {
      "text/plain": [
       "{'AAAAAAAAAA'}"
      ]
     },
     "execution_count": 74,
     "metadata": {},
     "output_type": "execute_result"
    }
   ],
   "source": [
    "s = \"AAAAAAAAAAAAA\"\n",
    "findRepeatedDnaSequences(s)"
   ]
  },
  {
   "cell_type": "code",
   "execution_count": 75,
   "metadata": {},
   "outputs": [
    {
     "data": {
      "text/plain": [
       "{'AAAAACCCCC', 'CCCCCAAAAA'}"
      ]
     },
     "execution_count": 75,
     "metadata": {},
     "output_type": "execute_result"
    }
   ],
   "source": [
    "s = \"AAAAACCCCCAAAAACCCCCCAAAAAGGGTTT\"\n",
    "findRepeatedDnaSequences(s)"
   ]
  }
 ],
 "metadata": {
  "interpreter": {
   "hash": "7d20bfa18dee6a59cc01d09349edea9fdd74542974c9019c2cfac0b028986a56"
  },
  "kernelspec": {
   "display_name": "Python 3.8.10 ('env': venv)",
   "language": "python",
   "name": "python3"
  },
  "language_info": {
   "codemirror_mode": {
    "name": "ipython",
    "version": 3
   },
   "file_extension": ".py",
   "mimetype": "text/x-python",
   "name": "python",
   "nbconvert_exporter": "python",
   "pygments_lexer": "ipython3",
   "version": "3.8.10"
  },
  "orig_nbformat": 4
 },
 "nbformat": 4,
 "nbformat_minor": 2
}
