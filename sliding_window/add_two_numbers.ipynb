{
 "cells": [
  {
   "cell_type": "markdown",
   "metadata": {},
   "source": [
    "# Add Two Numbers \n",
    "The algorithm works as follows: \n",
    "\n",
    "## Specification \n",
    "* Precondition: Accept two linked lists and store them as reversed lists\n",
    "* Postcondition: Add these numbers and store result as a list \n",
    "\n",
    "## Examples \n",
    "Input: l1 = [2,4,3], l2 = [5,6,4]\n",
    "Output: [7,0,8]\n"
   ]
  },
  {
   "cell_type": "code",
   "execution_count": 10,
   "metadata": {},
   "outputs": [],
   "source": [
    "class ListNode:\n",
    "     def __init__(self, val=0, next=None):\n",
    "         self.val = val\n",
    "         self.next = next"
   ]
  },
  {
   "cell_type": "code",
   "execution_count": 11,
   "metadata": {},
   "outputs": [],
   "source": [
    "def inverseList(mylist):\n",
    "    newlist = []\n",
    "    for i in reversed(mylist):\n",
    "        newlist.append(i)\n",
    "    return newlist"
   ]
  },
  {
   "cell_type": "code",
   "execution_count": 12,
   "metadata": {},
   "outputs": [],
   "source": [
    "def convertListToNumber(numList):  # [1,2,3]\n",
    "    s = map(str, numList)   # ['1','2','3']\n",
    "    s = ''.join(s)          # '123'\n",
    "    s = int(s)              # 123\n",
    "    return s"
   ]
  },
  {
   "cell_type": "code",
   "execution_count": 13,
   "metadata": {},
   "outputs": [],
   "source": [
    "def convertNumberToList(myNumber):\n",
    "    mylist = list(str(myNumber))\n",
    "    newlist = []\n",
    "    for i in reversed(mylist):\n",
    "        newlist.append(int(i))\n",
    "    return newlist   "
   ]
  },
  {
   "cell_type": "code",
   "execution_count": 14,
   "metadata": {},
   "outputs": [],
   "source": [
    "def listnode_to_pylist(listnode):\n",
    "        ret = []\n",
    "        while True:\n",
    "            ret.append(listnode.val)\n",
    "            if listnode.next != None:\n",
    "                listnode = listnode.next\n",
    "            else:\n",
    "                return ret"
   ]
  },
  {
   "cell_type": "code",
   "execution_count": 15,
   "metadata": {},
   "outputs": [],
   "source": [
    "def pylist_to_listnode(pylist):\n",
    "\n",
    "    if not pylist: \n",
    "        return None \n",
    "    else: \n",
    "        return ListNode(val = pylist[0], next = pylist_to_listnode(pylist[1:]))"
   ]
  },
  {
   "cell_type": "code",
   "execution_count": 16,
   "metadata": {},
   "outputs": [],
   "source": [
    "def addTwoNumbers(l1, l2):\n",
    "\n",
    "    #Convert the lists to python lists and reverse them \n",
    "    nl1 = inverseList(listnode_to_pylist(l1))\n",
    "    nl2 = inverseList(listnode_to_pylist(l2))\n",
    "\n",
    "    #Convert the lists to numbers \n",
    "    n1 = convertListToNumber(nl1)\n",
    "    n2 = convertListToNumber(nl2)\n",
    "\n",
    "    #Find the sum \n",
    "    total = n1 + n2 \n",
    "\n",
    "    #Convert the total to a inversed list and listnode\n",
    "    nl3 = pylist_to_listnode(convertNumberToList(total))\n",
    "    \n",
    "    #Return the list \n",
    "    return nl3"
   ]
  },
  {
   "cell_type": "code",
   "execution_count": 17,
   "metadata": {},
   "outputs": [],
   "source": [
    "l1 = ListNode(val = 2, next = ListNode(val = 4, next = ListNode(val = 3, next = None)))\n",
    "l2 = ListNode(val = 5, next = ListNode(val = 6, next = ListNode(val = 4, next = None)))"
   ]
  },
  {
   "cell_type": "code",
   "execution_count": 20,
   "metadata": {},
   "outputs": [],
   "source": [
    "#l1 = [2,4,3]\n",
    "#l2 = [5,6,4]\n",
    "results = addTwoNumbers(l1,l2)"
   ]
  },
  {
   "cell_type": "code",
   "execution_count": 22,
   "metadata": {},
   "outputs": [
    {
     "data": {
      "text/plain": [
       "[7, 0, 8]"
      ]
     },
     "execution_count": 22,
     "metadata": {},
     "output_type": "execute_result"
    }
   ],
   "source": [
    "#Print out the results \n",
    "listnode_to_pylist(results)"
   ]
  }
 ],
 "metadata": {
  "interpreter": {
   "hash": "7d20bfa18dee6a59cc01d09349edea9fdd74542974c9019c2cfac0b028986a56"
  },
  "kernelspec": {
   "display_name": "Python 3.8.10 ('env': venv)",
   "language": "python",
   "name": "python3"
  },
  "language_info": {
   "codemirror_mode": {
    "name": "ipython",
    "version": 3
   },
   "file_extension": ".py",
   "mimetype": "text/x-python",
   "name": "python",
   "nbconvert_exporter": "python",
   "pygments_lexer": "ipython3",
   "version": "3.8.10"
  },
  "orig_nbformat": 4
 },
 "nbformat": 4,
 "nbformat_minor": 2
}
