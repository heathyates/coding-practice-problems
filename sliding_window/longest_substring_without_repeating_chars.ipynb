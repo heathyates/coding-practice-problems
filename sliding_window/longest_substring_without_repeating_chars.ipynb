{
 "cells": [
  {
   "cell_type": "code",
   "execution_count": 1,
   "metadata": {},
   "outputs": [],
   "source": [
    "def isin(subseq, schar): \n",
    "\n",
    "    dup = False \n",
    "\n",
    "    for s in subseq: \n",
    "        if s == schar: \n",
    "            dup = True\n",
    "            break \n",
    "    \n",
    "    return dup  "
   ]
  },
  {
   "cell_type": "code",
   "execution_count": 19,
   "metadata": {},
   "outputs": [],
   "source": [
    "def lengthOfLongestSubstring(s):\n",
    "\n",
    "    #Define string sequence \n",
    "    stringsequence = s\n",
    "\n",
    "    #Define window size \n",
    "    k = 3 \n",
    "\n",
    "    #Define largest substring \n",
    "    max_sub = []\n",
    "\n",
    "    #Define the window \n",
    "    window_start = 0 \n",
    "    window_end = 0 \n",
    "\n",
    "    #\n",
    "    temp_sub = []\n",
    "\n",
    "\n",
    "    while len(stringsequence) > 1: \n",
    "\n",
    "        #Check if latest character in temp_sub \n",
    "        if isin(temp_sub, s[window_start]):\n",
    "            print('A')\n",
    "            temp_sub = [] #Reset the temporary subsequence \n",
    "\n",
    "        else: \n",
    "            print('B')\n",
    "            temp_sub.append(s[window_start]) #Add character to subsequence \n",
    "            if len(temp_sub) >= len(max_sub):\n",
    "                print('C')\n",
    "                max_sub = temp_sub\n",
    "        \n",
    "        #window_start = window_start + 1\n",
    "        stringsequence = s[window_start:]\n",
    "        window_start = window_start + 1\n",
    "\n",
    "        #print(stringsequence)\n",
    "        #print(window_start)\n",
    "\n",
    "    #Sliding window time\n",
    "    if max_sub == []: \n",
    "        max_sub = ['0']\n",
    "    return len(max_sub)"
   ]
  },
  {
   "cell_type": "code",
   "execution_count": 5,
   "metadata": {},
   "outputs": [
    {
     "data": {
      "text/plain": [
       "3"
      ]
     },
     "execution_count": 5,
     "metadata": {},
     "output_type": "execute_result"
    }
   ],
   "source": [
    "s = \"abcabccbb\"\n",
    "lengthOfLongestSubstring(s)"
   ]
  },
  {
   "cell_type": "code",
   "execution_count": 20,
   "metadata": {},
   "outputs": [
    {
     "data": {
      "text/plain": [
       "1"
      ]
     },
     "execution_count": 20,
     "metadata": {},
     "output_type": "execute_result"
    }
   ],
   "source": [
    "s = \" \"\n",
    "lengthOfLongestSubstring(s)"
   ]
  },
  {
   "cell_type": "code",
   "execution_count": 43,
   "metadata": {},
   "outputs": [
    {
     "name": "stdout",
     "output_type": "stream",
     "text": [
      "bcabcbb\n",
      "cabcbb\n",
      "abcbb\n",
      "bcbb\n",
      "cbb\n",
      "bb\n",
      "b\n",
      "\n"
     ]
    }
   ],
   "source": [
    "s = \"abcabcbb\"\n",
    "len(s)\n",
    "#list(map(list, s.split()))\n",
    "\n",
    "for i in range(len(s)):\n",
    "    print(s[i+1:])"
   ]
  }
 ],
 "metadata": {
  "interpreter": {
   "hash": "7d20bfa18dee6a59cc01d09349edea9fdd74542974c9019c2cfac0b028986a56"
  },
  "kernelspec": {
   "display_name": "Python 3.8.10 ('env': venv)",
   "language": "python",
   "name": "python3"
  },
  "language_info": {
   "codemirror_mode": {
    "name": "ipython",
    "version": 3
   },
   "file_extension": ".py",
   "mimetype": "text/x-python",
   "name": "python",
   "nbconvert_exporter": "python",
   "pygments_lexer": "ipython3",
   "version": "3.8.10"
  },
  "orig_nbformat": 4
 },
 "nbformat": 4,
 "nbformat_minor": 2
}
