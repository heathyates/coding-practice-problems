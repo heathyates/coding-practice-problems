{
 "cells": [
  {
   "cell_type": "markdown",
   "metadata": {},
   "source": [
    "Input: s = \"abcabcbb\"\n",
    "Output: 3\n",
    "Explanation: The answer is \"abc\", with the length of 3"
   ]
  },
  {
   "cell_type": "code",
   "execution_count": 103,
   "metadata": {},
   "outputs": [],
   "source": [
    "s = 'abcabcbb'"
   ]
  },
  {
   "cell_type": "code",
   "execution_count": 4,
   "metadata": {},
   "outputs": [],
   "source": [
    "def isin(sub_array, chars):\n",
    "    val = False \n",
    "    for i in sub_array: \n",
    "        if i == chars: \n",
    "            val = True \n",
    "    return val "
   ]
  },
  {
   "cell_type": "code",
   "execution_count": 104,
   "metadata": {},
   "outputs": [
    {
     "data": {
      "text/plain": [
       "['a', 'b', 'c']"
      ]
     },
     "execution_count": 104,
     "metadata": {},
     "output_type": "execute_result"
    }
   ],
   "source": [
    "subseq = []\n",
    "for i in range(len(s)):\n",
    "\n",
    "    tempsub = subseq\n",
    "\n",
    "    if i == 0: \n",
    "        tempsub.append(s[i])\n",
    "    elif isin(tempsub, s[i]): \n",
    "        tempsub = []\n",
    "        tempsub.append(s[i])\n",
    "    else: \n",
    "        tempsub.append(s[i])\n",
    "    \n",
    "\n",
    "\n",
    "\n",
    "#\"\".join(map(str, subseq))\n",
    "subseq"
   ]
  },
  {
   "cell_type": "code",
   "execution_count": 56,
   "metadata": {},
   "outputs": [],
   "source": [
    "isin('abcdefg', 'd')\n",
    "s = []\n",
    "s.append('a')"
   ]
  },
  {
   "cell_type": "code",
   "execution_count": 38,
   "metadata": {},
   "outputs": [
    {
     "data": {
      "text/plain": [
       "range(0, 8)"
      ]
     },
     "execution_count": 38,
     "metadata": {},
     "output_type": "execute_result"
    }
   ],
   "source": [
    "range(len(s))"
   ]
  }
 ],
 "metadata": {
  "interpreter": {
   "hash": "7d20bfa18dee6a59cc01d09349edea9fdd74542974c9019c2cfac0b028986a56"
  },
  "kernelspec": {
   "display_name": "Python 3.8.10 ('env': venv)",
   "language": "python",
   "name": "python3"
  },
  "language_info": {
   "codemirror_mode": {
    "name": "ipython",
    "version": 3
   },
   "file_extension": ".py",
   "mimetype": "text/x-python",
   "name": "python",
   "nbconvert_exporter": "python",
   "pygments_lexer": "ipython3",
   "version": "3.8.10"
  },
  "orig_nbformat": 4
 },
 "nbformat": 4,
 "nbformat_minor": 2
}
